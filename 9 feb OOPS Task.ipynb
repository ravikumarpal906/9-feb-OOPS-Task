{
 "cells": [
  {
   "cell_type": "markdown",
   "id": "677e4c58-85ee-4451-95fb-660b0cb5ed74",
   "metadata": {},
   "source": [
    "Q1, Create a vehicle class with an init method having instance variables as name_of_vehicle, max_speed\n",
    "and average_of_vehicle."
   ]
  },
  {
   "cell_type": "code",
   "execution_count": 1,
   "id": "c3cf93ff-65e5-40ed-81f4-740be73abf25",
   "metadata": {},
   "outputs": [
    {
     "name": "stdout",
     "output_type": "stream",
     "text": [
      "Name of Vehicle: Car\n",
      "Max Speed: 200\n",
      "Average Fuel Efficiency: 30\n"
     ]
    }
   ],
   "source": [
    "class Vehicle:\n",
    "    def __init__(self, name_of_vehicle, max_speed, average_of_vehicle):\n",
    "        self.name_of_vehicle = name_of_vehicle\n",
    "        self.max_speed = max_speed\n",
    "        self.average_of_vehicle = average_of_vehicle\n",
    "\n",
    "# Creating an instance of the Vehicle class\n",
    "my_vehicle = Vehicle(\"Car\", 200, 30)\n",
    "\n",
    "# Accessing instance variables\n",
    "print(\"Name of Vehicle:\", my_vehicle.name_of_vehicle)\n",
    "print(\"Max Speed:\", my_vehicle.max_speed)\n",
    "print(\"Average Fuel Efficiency:\", my_vehicle.average_of_vehicle)\n"
   ]
  },
  {
   "cell_type": "markdown",
   "id": "81de491d-a9f6-4171-ad31-4325da076805",
   "metadata": {},
   "source": [
    "Q2. Create a child class car from the vehicle class created in Que 1, which will inherit the vehicle class. Create a method named seating_capacity which takes capacity as an argument and returns the name of the vehicle and its seating capacity."
   ]
  },
  {
   "cell_type": "code",
   "execution_count": 7,
   "id": "7baf5b9a-2e1b-4f85-b826-450403080dbf",
   "metadata": {},
   "outputs": [
    {
     "name": "stdout",
     "output_type": "stream",
     "text": [
      "Name of Vehicle: Sedan\n",
      "Max Speed: 200\n",
      "Average Fuel Efficiency: 5\n",
      "Sedan has a seating capacity of 5 people.\n"
     ]
    }
   ],
   "source": [
    "class Vehicle:\n",
    "    def __init__(self, name_of_vehicle, max_speed, average_of_vehicle):\n",
    "        self.name_of_vehicle = name_of_vehicle\n",
    "        self.max_speed = max_speed\n",
    "        self.average_of_vehicle = average_of_vehicle\n",
    "\n",
    "class Car(Vehicle):\n",
    "    \n",
    "    def seating_capacity(self, capacity):\n",
    "        return f\"{self.name_of_vehicle} has a seating capacity of {capacity} people.\"\n",
    "\n",
    "# Create an instance of the Car class\n",
    "my_car = Car(\"Sedan\", 200, 5)\n",
    "\n",
    "# Accessing instance variables from the base class\n",
    "print(\"Name of Vehicle:\", my_car.name_of_vehicle)\n",
    "print(\"Max Speed:\", my_car.max_speed)\n",
    "print(\"Average Fuel Efficiency:\", my_car.average_of_vehicle)\n",
    "\n",
    "# Call the seating_capacity method\n",
    "print(my_car.seating_capacity(5))\n"
   ]
  },
  {
   "cell_type": "markdown",
   "id": "a40793ba-1383-47da-98d3-5922ec7da22c",
   "metadata": {},
   "source": [
    "Q3. What is multiple inheritance? Write a python code to demonstrate multiple inheritance."
   ]
  },
  {
   "cell_type": "markdown",
   "id": "95d08a93-54ce-483b-9d22-6630f3ccab11",
   "metadata": {},
   "source": [
    "Multiple inheritance is a feature in object-oriented programming languages that allows a class to inherit attributes and methods from more than one parent class. In other words, a class can inherit properties and behaviors from multiple base classes. Multiple inheritance is a powerful but complex concept, and it can lead to issues like the diamond problem when not managed properly."
   ]
  },
  {
   "cell_type": "code",
   "execution_count": 8,
   "id": "5d324ba4-c65a-4a3a-a6cf-ab65a4983fb3",
   "metadata": {},
   "outputs": [
    {
     "name": "stdout",
     "output_type": "stream",
     "text": [
      "Name: Sedan\n",
      "Brand: Toyota\n",
      "Sedan says Vroom!\n",
      "Toyota car is now being driven.\n"
     ]
    }
   ],
   "source": [
    "# Parent class 1\n",
    "class Animal:\n",
    "    def __init__(self, name):\n",
    "        self.name = name\n",
    "\n",
    "    def speak(self):\n",
    "        pass\n",
    "\n",
    "# Parent class 2\n",
    "class Vehicle:\n",
    "    def __init__(self, brand):\n",
    "        self.brand = brand\n",
    "\n",
    "    def drive(self):\n",
    "        pass\n",
    "\n",
    "# Child class inheriting from both Animal and Vehicle\n",
    "class Car(Animal, Vehicle):\n",
    "    def __init__(self, name, brand, fuel_type):\n",
    "        # Initialize attributes of both parent classes\n",
    "        Animal.__init__(self, name)\n",
    "        Vehicle.__init__(self, brand)\n",
    "        self.fuel_type = fuel_type\n",
    "\n",
    "    def speak(self):\n",
    "        return f\"{self.name} says Vroom!\"\n",
    "\n",
    "    def drive(self):\n",
    "        return f\"{self.brand} car is now being driven.\"\n",
    "\n",
    "# Create an instance of the Car class\n",
    "my_car = Car(\"Sedan\", \"Toyota\", \"Petrol\")\n",
    "\n",
    "# Accessing attributes and methods from both parent classes\n",
    "print(\"Name:\", my_car.name)\n",
    "print(\"Brand:\", my_car.brand)\n",
    "print(my_car.speak())\n",
    "print(my_car.drive())"
   ]
  },
  {
   "cell_type": "markdown",
   "id": "b5d77d93-0507-4203-af93-97ade43037ef",
   "metadata": {},
   "source": [
    "Q4. What are getter and setter in python? Create a class and create a getter and a setter method in this\n",
    "class."
   ]
  },
  {
   "cell_type": "markdown",
   "id": "394050f1-1b7f-4e39-9609-4359b7b80a13",
   "metadata": {},
   "source": [
    "\n",
    "In Python, getters and setters are methods used to control the access and modification of class attributes (instance variables). They are often used to implement encapsulation, a fundamental concept in object-oriented programming that restricts direct access to an object's attributes and provides controlled access via methods."
   ]
  },
  {
   "cell_type": "markdown",
   "id": "b270b800-6965-436b-af57-93af2c65146d",
   "metadata": {},
   "source": [
    "Getter: A getter method allows you to retrieve the value of an attribute. It provides read-only access to the attribute."
   ]
  },
  {
   "cell_type": "markdown",
   "id": "31216a55-d9d7-417b-8a93-ebf14dcd2e35",
   "metadata": {},
   "source": [
    "Setter: A setter method allows you to set the value of an attribute. It provides write-only access to the attribute while allowing you to enforce validation rules or perform actions when setting the value."
   ]
  },
  {
   "cell_type": "code",
   "execution_count": 9,
   "id": "d563c847-a50c-42b0-a580-681a2213a063",
   "metadata": {},
   "outputs": [
    {
     "name": "stdout",
     "output_type": "stream",
     "text": [
      "Name: John\n",
      "Age: 20\n",
      "Name: Alice\n",
      "Age: 25\n",
      "Name is too short. It should be at least 3 characters.\n",
      "Age cannot be negative.\n"
     ]
    }
   ],
   "source": [
    "class Student:\n",
    "    def __init__(self, name, age):\n",
    "        self._name = name  # Private attribute (denoted by a single underscore)\n",
    "        self._age = age\n",
    "\n",
    "    # Getter method for the 'name' attribute\n",
    "    def get_name(self):\n",
    "        return self._name\n",
    "\n",
    "    # Setter method for the 'name' attribute\n",
    "    def set_name(self, name):\n",
    "        if len(name) < 3:\n",
    "            print(\"Name is too short. It should be at least 3 characters.\")\n",
    "        else:\n",
    "            self._name = name\n",
    "\n",
    "    # Getter method for the 'age' attribute\n",
    "    def get_age(self):\n",
    "        return self._age\n",
    "\n",
    "    # Setter method for the 'age' attribute\n",
    "    def set_age(self, age):\n",
    "        if age < 0:\n",
    "            print(\"Age cannot be negative.\")\n",
    "        else:\n",
    "            self._age = age\n",
    "\n",
    "# Create an instance of the Student class\n",
    "student = Student(\"John\", 20)\n",
    "\n",
    "# Use getter methods to access attributes\n",
    "print(\"Name:\", student.get_name())\n",
    "print(\"Age:\", student.get_age())\n",
    "\n",
    "# Use setter methods to modify attributes\n",
    "student.set_name(\"Alice\")\n",
    "student.set_age(25)\n",
    "\n",
    "# Access attributes again\n",
    "print(\"Name:\", student.get_name())\n",
    "print(\"Age:\", student.get_age())\n",
    "\n",
    "# Attempt to set invalid values\n",
    "student.set_name(\"A\")  # Too short name\n",
    "student.set_age(-5)   # Negative age\n"
   ]
  },
  {
   "cell_type": "markdown",
   "id": "dcd22e4c-d59b-42c7-813f-6d41d0e41b28",
   "metadata": {},
   "source": [
    "Q5.What is method overriding in python? Write a python code to demonstrate method overriding."
   ]
  },
  {
   "cell_type": "markdown",
   "id": "7cee3c18-9060-4ffa-b214-82e3adb67a16",
   "metadata": {},
   "source": [
    "Method overriding is a feature in object-oriented programming that allows a subclass to provide a specific implementation of a method that is already defined in its superclass. When a method in a subclass has the same name, parameters, and return type as a method in its superclass, it is said to override the superclass method. Method overriding is used to provide a specialized implementation of a method in a subclass, while still benefiting from the inheritance of the superclass method."
   ]
  },
  {
   "cell_type": "code",
   "execution_count": 10,
   "id": "cc0a4a40-a758-470d-b02c-566a2aaaa4b8",
   "metadata": {},
   "outputs": [
    {
     "name": "stdout",
     "output_type": "stream",
     "text": [
      "Dog says: Dog barks\n",
      "Cat says: Cat meows\n",
      "Animal says: Animal speaks generic sound\n"
     ]
    }
   ],
   "source": [
    "class Animal:\n",
    "    def speak(self):\n",
    "        return \"Animal speaks generic sound\"\n",
    "\n",
    "class Dog(Animal):\n",
    "    def speak(self):\n",
    "        return \"Dog barks\"\n",
    "\n",
    "class Cat(Animal):\n",
    "    def speak(self):\n",
    "        return \"Cat meows\"\n",
    "\n",
    "# Create instances of the subclasses\n",
    "dog = Dog()\n",
    "cat = Cat()\n",
    "\n",
    "# Call the speak method on instances\n",
    "print(\"Dog says:\", dog.speak())  # Calls Dog's overridden speak method\n",
    "print(\"Cat says:\", cat.speak())  # Calls Cat's overridden speak method\n",
    "\n",
    "# Create an instance of the superclass\n",
    "animal = Animal()\n",
    "\n",
    "# Call the speak method on the superclass instance\n",
    "print(\"Animal says:\", animal.speak())  # Calls Animal's speak method\n"
   ]
  },
  {
   "cell_type": "code",
   "execution_count": null,
   "id": "bc074ec6-fc10-4e9d-9eea-a4d71511ee24",
   "metadata": {},
   "outputs": [],
   "source": []
  }
 ],
 "metadata": {
  "kernelspec": {
   "display_name": "Python 3 (ipykernel)",
   "language": "python",
   "name": "python3"
  },
  "language_info": {
   "codemirror_mode": {
    "name": "ipython",
    "version": 3
   },
   "file_extension": ".py",
   "mimetype": "text/x-python",
   "name": "python",
   "nbconvert_exporter": "python",
   "pygments_lexer": "ipython3",
   "version": "3.10.8"
  }
 },
 "nbformat": 4,
 "nbformat_minor": 5
}
